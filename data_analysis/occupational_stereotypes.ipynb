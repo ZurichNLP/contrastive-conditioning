{
 "cells": [
  {
   "cell_type": "markdown",
   "metadata": {
    "collapsed": true,
    "pycharm": {
     "name": "#%% md\n"
    }
   },
   "source": [
    "Check whether the stereotypes derived from labor statistics (Zhao et al. 2018) that are used\n",
    "for WinoMT correlate with the distribution in WMT19 EN–DE parallel data"
   ]
  },
  {
   "cell_type": "code",
   "execution_count": 1,
   "metadata": {
    "pycharm": {
     "name": "#%%\n"
    }
   },
   "outputs": [],
   "source": [
    "import json\n",
    "from collections import defaultdict\n",
    "from pathlib import Path\n",
    "\n",
    "import numpy as np\n",
    "from scipy import stats"
   ]
  },
  {
   "cell_type": "code",
   "execution_count": 2,
   "metadata": {
    "pycharm": {
     "name": "#%%\n"
    }
   },
   "outputs": [],
   "source": [
    "# Source: https://aclanthology.org/N18-2003/\n",
    "winobias_female_percentages = {\n",
    "    'carpenter': 2, 'editor': 52, 'mechanic': 4, 'designer': 54,\n",
    "    'construction worker': 4, 'accountant': 61, 'laborer': 4, 'auditor': 61, 'driver': 6,\n",
    "    'writer': 63, 'sheriff': 14, 'baker': 65, 'mover': 18, 'clerk': 72, 'developer': 20,\n",
    "    'cashier': 73, 'farmer': 22, 'counselor': 73, 'guard': 22, 'attendant': 76, 'librarian': 84,\n",
    "    'chief': 27, 'teacher': 78, 'janitor': 34, 'tailor': 80, 'lawyer': 35,\n",
    "    'cook': 38, 'assistant': 85, 'physician': 38, 'cleaner': 89, 'CEO': 39,\n",
    "    'housekeeper': 89, 'analyst': 41, 'nurse': 90, 'manager': 43, 'receptionist': 90,\n",
    "    'supervisor': 44, 'hairdresser': 92, 'salesperson': 48, 'secretary': 95\n",
    "}\n",
    "winobias_female_ratios = {k: v / 100 for k, v in winobias_female_percentages.items()}"
   ]
  },
  {
   "cell_type": "code",
   "execution_count": 3,
   "metadata": {
    "pycharm": {
     "name": "#%%\n"
    }
   },
   "outputs": [
    {
     "name": "stdout",
     "output_type": "stream",
     "text": [
      "occupation\tfemale ratio\n",
      "nurse\t0.91\n",
      "cleaner\t0.80\n",
      "writer\t0.40\n",
      "secretary\t0.32\n",
      "assistant\t0.24\n",
      "cook\t0.22\n",
      "editor\t0.17\n",
      "therapist\t0.17\n",
      "teacher\t0.17\n",
      "painter\t0.17\n",
      "scientist\t0.12\n",
      "lawyer\t0.12\n",
      "student\t0.12\n",
      "designer\t0.12\n",
      "guard\t0.09\n",
      "physician\t0.09\n",
      "resident\t0.08\n",
      "CEO\t0.08\n",
      "instructor\t0.08\n",
      "tailor\t0.08\n",
      "manager\t0.07\n",
      "advisor\t0.07\n",
      "patient\t0.07\n",
      "chief\t0.06\n",
      "owner\t0.06\n",
      "witness\t0.06\n",
      "architect\t0.05\n",
      "farmer\t0.05\n",
      "worker\t0.04\n",
      "practitioner\t0.04\n",
      "engineer\t0.04\n",
      "specialist\t0.04\n",
      "doctor\t0.04\n",
      "employee\t0.03\n",
      "planner\t0.03\n",
      "officer\t0.03\n",
      "client\t0.02\n",
      "chef\t0.02\n",
      "passenger\t0.01\n",
      "buyer\t0.01\n",
      "visitor\t0.01\n",
      "administrator\t0.01\n",
      "pedestrian\t0.01\n",
      "developer\t0.01\n",
      "broker\t0.00\n",
      "inspector\t0.00\n",
      "customer\t0.00\n",
      "driver\t0.00\n"
     ]
    }
   ],
   "source": [
    "# Compute ratios of female forms in the training data\n",
    "with open(Path(\".\") / \"results\" / \"occupations_en-de.count_results.json\") as f:\n",
    "    wmt19_data = json.load(f)\n",
    "wmt19_totals = defaultdict(int)\n",
    "wmt19_female_counts = dict()\n",
    "for row in wmt19_data:\n",
    "    if \"_original_\" not in row[1] or not any([\"_male\" in row[1], \"_female\" in row[1]]):\n",
    "        continue\n",
    "    occupation = row[0]\n",
    "    count = row[2]\n",
    "    wmt19_totals[occupation] += count\n",
    "    if \"_female\" in row[1]:\n",
    "        wmt19_female_counts[occupation] = count\n",
    "wmt19_female_ratios = {k: v / wmt19_totals[k] for k, v in wmt19_female_counts.items()}\n",
    "print(\"occupation\\tfemale ratio\")\n",
    "for occupation, female_ratio in sorted(wmt19_female_ratios.items(), key=lambda t: t[1], reverse=True):\n",
    "    print(f\"{occupation}\\t{female_ratio:.2f}\")"
   ]
  },
  {
   "cell_type": "code",
   "execution_count": 4,
   "metadata": {
    "pycharm": {
     "name": "#%%\n"
    }
   },
   "outputs": [
    {
     "name": "stdout",
     "output_type": "stream",
     "text": [
      "r = 0.6892201290415162\n",
      "p-value = 0.0010979118324630748\n"
     ]
    }
   ],
   "source": [
    "# Compute correlation\n",
    "compared_occupations = list(set(wmt19_female_ratios).intersection(winobias_female_ratios))\n",
    "winobias_series = np.array([winobias_female_ratios[occupation] for occupation in compared_occupations])\n",
    "wmt19_series = np.array([wmt19_female_ratios[occupation] for occupation in compared_occupations])\n",
    "r, p = stats.pearsonr(winobias_series, wmt19_series)\n",
    "print(f\"r = {r}\")\n",
    "print(f\"p-value = {p}\")"
   ]
  },
  {
   "cell_type": "code",
   "execution_count": null,
   "metadata": {
    "pycharm": {
     "name": "#%%\n"
    }
   },
   "outputs": [],
   "source": []
  }
 ],
 "metadata": {
  "kernelspec": {
   "display_name": "Python 3 (ipykernel)",
   "language": "python",
   "name": "python3"
  },
  "language_info": {
   "codemirror_mode": {
    "name": "ipython",
    "version": 3
   },
   "file_extension": ".py",
   "mimetype": "text/x-python",
   "name": "python",
   "nbconvert_exporter": "python",
   "pygments_lexer": "ipython3",
   "version": "3.7.3"
  }
 },
 "nbformat": 4,
 "nbformat_minor": 1
}
